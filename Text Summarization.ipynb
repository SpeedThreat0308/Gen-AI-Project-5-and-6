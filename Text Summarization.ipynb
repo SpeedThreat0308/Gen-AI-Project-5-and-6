{
 "cells": [
  {
   "cell_type": "code",
   "execution_count": 3,
   "id": "4134a326",
   "metadata": {},
   "outputs": [
    {
     "data": {
      "text/plain": [
       "ChatGroq(client=<groq.resources.chat.completions.Completions object at 0x0000023B12B5EE50>, async_client=<groq.resources.chat.completions.AsyncCompletions object at 0x0000023B144770D0>, model_name='gemma2-9b-it', model_kwargs={}, groq_api_key=SecretStr('**********'))"
      ]
     },
     "execution_count": 3,
     "metadata": {},
     "output_type": "execute_result"
    }
   ],
   "source": [
    "import os\n",
    "from dotenv import load_dotenv\n",
    "load_dotenv()\n",
    "\n",
    "from langchain_groq import ChatGroq\n",
    "api_key=os.getenv(\"GROQ_API_KEY\")\n",
    "\n",
    "llm=ChatGroq(model_name=\"gemma2-9b-it\",groq_api_key=api_key)\n",
    "llm"
   ]
  },
  {
   "cell_type": "code",
   "execution_count": 5,
   "id": "816c7a3e",
   "metadata": {},
   "outputs": [],
   "source": [
    "from langchain.schema import AIMessage, HumanMessage, SystemMessage\n",
    "\n",
    "speech='''\n",
    "I have a dream that one day down in Alabama, with its vicious racists, with its governor having his lips dripping with the words of interposition and nullification – one day right there in Alabama little black boys and black girls will be able to join hands with little white boys and white girls as sisters and brothers.\n",
    "I have a dream today. I have a dream that one day every valley shall be exalted, and every hill and mountain shall be made low, the rough places will be made plain, and the crooked places will be made straight, and the glory of the Lord shall be revealed and all flesh shall see it together.\n",
    "This is our hope. This is the faith that I go back to the South with. With this faith we will be able to hew out of the mountain of despair a stone of hope. With this faith we will be able to transform the jangling discords of our nation into a beautiful symphony of brotherhood.\n",
    "'''"
   ]
  },
  {
   "cell_type": "code",
   "execution_count": 6,
   "id": "67e8f20a",
   "metadata": {},
   "outputs": [
    {
     "name": "stderr",
     "output_type": "stream",
     "text": [
      "e:\\genaiproj3\\venv\\Lib\\site-packages\\tqdm\\auto.py:21: TqdmWarning: IProgress not found. Please update jupyter and ipywidgets. See https://ipywidgets.readthedocs.io/en/stable/user_install.html\n",
      "  from .autonotebook import tqdm as notebook_tqdm\n"
     ]
    },
    {
     "data": {
      "text/plain": [
       "195"
      ]
     },
     "execution_count": 6,
     "metadata": {},
     "output_type": "execute_result"
    }
   ],
   "source": [
    "chat_message=[\n",
    "    SystemMessage(content=\"You are an expert with expertise in summarizing\"),\n",
    "    HumanMessage(content=f\"Please provide the concise and brief summary of the speech: \\n Text: {speech}\")\n",
    "]\n",
    "\n",
    "llm.get_num_tokens(speech)"
   ]
  },
  {
   "cell_type": "code",
   "execution_count": 7,
   "id": "e3c3825c",
   "metadata": {},
   "outputs": [
    {
     "name": "stderr",
     "output_type": "stream",
     "text": [
      "C:\\Users\\IntotheSF\\AppData\\Local\\Temp\\ipykernel_21496\\1339791998.py:1: LangChainDeprecationWarning: The method `BaseChatModel.__call__` was deprecated in langchain-core 0.1.7 and will be removed in 1.0. Use :meth:`~invoke` instead.\n",
      "  llm(chat_message).content\n"
     ]
    },
    {
     "data": {
      "text/plain": [
       "'This excerpt from Martin Luther King Jr.\\'s \"I Have a Dream\" speech expresses his hope for a future where racial segregation ends and all people are treated equally. \\n\\nHe envisions a future where Black and white children can live together as siblings in harmony, symbolized by them joining hands.  He draws on biblical imagery to describe a transformed nation, where inequality is eradicated and unity prevails. \\n\\nKing\\'s \"faith\" fuels his belief that this dream is achievable, urging listeners to work together towards this hopeful vision. \\n'"
      ]
     },
     "execution_count": 7,
     "metadata": {},
     "output_type": "execute_result"
    }
   ],
   "source": [
    "llm(chat_message).content"
   ]
  },
  {
   "cell_type": "markdown",
   "id": "dbd7ac2d",
   "metadata": {},
   "source": [
    "### Prompt Template Text Summarization"
   ]
  },
  {
   "cell_type": "code",
   "execution_count": 8,
   "id": "7353077e",
   "metadata": {},
   "outputs": [
    {
     "data": {
      "text/plain": [
       "PromptTemplate(input_variables=['language', 'speech'], input_types={}, partial_variables={}, template='\\n  Write a summary of the following speech:\\n  Speech: {speech}\\n  Translate the precise summary to {language}\\n')"
      ]
     },
     "execution_count": 8,
     "metadata": {},
     "output_type": "execute_result"
    }
   ],
   "source": [
    "from langchain.chains import LLMChain #Combines prompts with llm models\n",
    "from langchain.prompts import PromptTemplate\n",
    "\n",
    "generictemplate='''\n",
    "  Write a summary of the following speech:\n",
    "  Speech: {speech}\n",
    "  Translate the precise summary to {language}\n",
    "'''\n",
    "\n",
    "prompt=PromptTemplate(\n",
    "    input_variables=[\"speech\",'language'],\n",
    "    template=generictemplate\n",
    ")\n",
    "\n",
    "prompt\n",
    "\n"
   ]
  },
  {
   "cell_type": "code",
   "execution_count": 10,
   "id": "4f466fcf",
   "metadata": {},
   "outputs": [],
   "source": [
    "comp_prompt=prompt.format(speech=speech,language=\"Tamil\")"
   ]
  },
  {
   "cell_type": "code",
   "execution_count": 11,
   "id": "e4aa56cf",
   "metadata": {},
   "outputs": [
    {
     "data": {
      "text/plain": [
       "219"
      ]
     },
     "execution_count": 11,
     "metadata": {},
     "output_type": "execute_result"
    }
   ],
   "source": [
    "llm.get_num_tokens(comp_prompt)"
   ]
  },
  {
   "cell_type": "code",
   "execution_count": 12,
   "id": "c37e3481",
   "metadata": {},
   "outputs": [
    {
     "name": "stderr",
     "output_type": "stream",
     "text": [
      "C:\\Users\\IntotheSF\\AppData\\Local\\Temp\\ipykernel_21496\\2535223863.py:1: LangChainDeprecationWarning: The class `LLMChain` was deprecated in LangChain 0.1.17 and will be removed in 1.0. Use :meth:`~RunnableSequence, e.g., `prompt | llm`` instead.\n",
      "  llm_chain=LLMChain(llm=llm,prompt=prompt)\n",
      "C:\\Users\\IntotheSF\\AppData\\Local\\Temp\\ipykernel_21496\\2535223863.py:2: LangChainDeprecationWarning: The method `Chain.run` was deprecated in langchain 0.1.0 and will be removed in 1.0. Use :meth:`~invoke` instead.\n",
      "  summary=llm_chain.run({\"speech\":speech,\"language\":\"Tamil\"})\n"
     ]
    },
    {
     "data": {
      "text/plain": [
       "\"## Summary:\\n\\nThe speaker expresses a powerful dream of racial equality in the United States. He envisions a future where children of all races can live together as equals, symbolized by black and white children joining hands. He draws inspiration from the biblical prophecy of a world transformed by God's glory, where all will see it together. This hope and faith, he declares, will empower them to overcome the despair and division of the nation and build a future of brotherhood.\\n\\n\\n\\n## Tamil translation:\\n\\nசொல்லியவரின் கனவில், அமெரிக்காவில் இன சமத்துவம் நிலவுகிறது. அனைத்து வண்ண குழந்தைகளும் சமமாக வாழும் ஒரு எதிர்காலத்தை அவர் கனவு கண்டார். அது கருப்பு மற்றும் வெள்ளை குழந்தைகள் கைகளை இணைத்து வாழும் வகையில் பிரதிபலிக்கிறது. அவர் இறைவனின் மகிமையால் உருமாறும் ஒரு உலகின் வேத வசனங்களை மேற்கோள் காட்டி, அனைவரும் அதுடன் இணைவார்கள், என்று நம்புகிறார். இந்த நம்பிக்கை மற்றும் ஐகி, அவர் கூறுகையில், நாட்டில் உள்ள திளைப்பும் பிளவுகளுக்கு மேலாக இருக்க முடியும், சகோரத்துவத்தின் அழகான சின்னமாக மாறும்.  \\n\\n\\n\""
      ]
     },
     "execution_count": 12,
     "metadata": {},
     "output_type": "execute_result"
    }
   ],
   "source": [
    "llm_chain=LLMChain(llm=llm,prompt=prompt)\n",
    "summary=llm_chain.run({\"speech\":speech,\"language\":\"Tamil\"})\n",
    "summary"
   ]
  },
  {
   "cell_type": "markdown",
   "id": "d76c200f",
   "metadata": {},
   "source": [
    "### Stuff Document Chain"
   ]
  },
  {
   "cell_type": "code",
   "execution_count": 13,
   "id": "b843616b",
   "metadata": {},
   "outputs": [
    {
     "data": {
      "text/plain": [
       "[Document(metadata={'producer': 'iTextSharp 5.0.5 (c) 1T3XT BVBA', 'creator': 'PDForsell by Yomogi Software', 'creationdate': '', 'moddate': '2014-02-18T13:46:01+09:00', 'title': '', 'author': '', 'subject': '', 'keywords': '', 'source': 'malayousafzai.pdf', 'total_pages': 2, 'page': 0, 'page_label': '1'}, page_content='16\\n中学生―Ｄ部門\\nDear brothers and sisters, do remember one thing. Malala Day is not my \\nday. Today is the day of every woman, every boy and every girl who have \\nraised their voice for their rights. There are hundreds of Human rights \\nactivists and social workers who are not only speaking for their rights, but \\nwho are struggling to achieve their goals of peace, education and equality. \\nThousands of people have been killed by the terrorists and millions have been \\ninjured. I am just one of them. So here I stand.... one girl among many.\\nI speak ― not for myself, but so those without voice can be heard. Those \\nwho have fought for their rights: Their right to live in peace. Their right to \\nbe treated with dignity.\\nTheir right to equality of opportunity. Their right to be educated. Dear \\nFriends, on the 9\\nth\\n of October 2012, the Taliban shot me on the left side of my \\nforehead. They shot my friends too. They thought that the bullets would \\nsilence us. But they failed. And then, out of that silence came, thousands of \\nvoices. The terrorists thought that they would change my aims and stop my \\nambitions but nothing changed in my life except this: Weakness, fear and \\nhopelessness died. Strength, power and courage was born. I am the same \\nMalala. My ambitions are the same. My hopes are the same and my dreams \\nare the same.\\nDear fellows, today I am focusing on women’s rights and girls’ education \\nbecause they are suffering the most. There was a time when women social \\nactivists asked men to stand up for their rights. But, this time, we will do it \\nby ourselves. I am not telling men to step away from speaking for women’s \\nrights rather I am focusing on women to be independent to fight for \\nthemselves. So dear sisters and brothers, now it’s time to speak up.\\nMalala Yousafzai’s Speech at the United Nations\\n同志社中学校\\u3000３年\\u3000山\\u3000本\\u3000莉紗子'),\n",
       " Document(metadata={'producer': 'iTextSharp 5.0.5 (c) 1T3XT BVBA', 'creator': 'PDForsell by Yomogi Software', 'creationdate': '', 'moddate': '2014-02-18T13:46:01+09:00', 'title': '', 'author': '', 'subject': '', 'keywords': '', 'source': 'malayousafzai.pdf', 'total_pages': 2, 'page': 1, 'page_label': '2'}, page_content='17\\n中学生―Ｄ部門\\nDear brothers and sisters, we want schools and education for every child’s \\nbright future. We will continue our journey to our destination of peace and \\neducation. No one can stop us. We will speak for our rights and we will bring \\nchange through our voice. We believe in the power and the strength of our \\nwords. Our words can change the whole world. Because we are all together, \\nunited for the cause of education. And if we want to achieve our goal, then \\nlet us empower ourselves with the weapon of knowledge and let us shield \\nourselves with unity and togetherness.\\nDear brothers and sisters, we must not forget that millions of people are \\nsuffering from poverty, injustice and ignorance. We must not forget that \\nmillions of children are out of their schools. We must not forget that our \\nsisters and brothers are waiting for a bright peaceful future. So let us wage a \\nglobal struggle against illiteracy, poverty and terrorism let us pick up our \\nbooks and our pens. They are our most peaceful weapons. One child, one \\nteacher, one book and one pen can change the world. Education is the only \\nsolution. Education first.')]"
      ]
     },
     "execution_count": 13,
     "metadata": {},
     "output_type": "execute_result"
    }
   ],
   "source": [
    "from langchain_community.document_loaders import PyPDFLoader\n",
    "\n",
    "loader=PyPDFLoader(\"malayousafzai.pdf\")\n",
    "docs=loader.load_and_split()\n",
    "docs"
   ]
  },
  {
   "cell_type": "code",
   "execution_count": 14,
   "id": "ca6be499",
   "metadata": {},
   "outputs": [],
   "source": [
    "template='''\n",
    "   Write a concise and short summary of the following speech\n",
    "   Speech: {text}\n",
    "'''\n",
    "prompt=PromptTemplate(input_variables=[\"text\"],template=template)"
   ]
  },
  {
   "cell_type": "code",
   "execution_count": 21,
   "id": "141d3f4c",
   "metadata": {},
   "outputs": [],
   "source": [
    "from langchain.chains.summarize import load_summarize_chain\n",
    "\n",
    "chain=load_summarize_chain(llm,prompt=prompt,chain_type=\"stuff\",verbose=True)"
   ]
  },
  {
   "cell_type": "code",
   "execution_count": 17,
   "id": "c47a2ad4",
   "metadata": {},
   "outputs": [
    {
     "name": "stdout",
     "output_type": "stream",
     "text": [
      "\n",
      "\n",
      "\u001b[1m> Entering new StuffDocumentsChain chain...\u001b[0m\n",
      "\n",
      "\n",
      "\u001b[1m> Entering new LLMChain chain...\u001b[0m\n",
      "Prompt after formatting:\n",
      "\u001b[32;1m\u001b[1;3m\n",
      "   Write a concise and short summary of the following speech\n",
      "   Speech: 16\n",
      "中学生―Ｄ部門\n",
      "Dear brothers and sisters, do remember one thing. Malala Day is not my \n",
      "day. Today is the day of every woman, every boy and every girl who have \n",
      "raised their voice for their rights. There are hundreds of Human rights \n",
      "activists and social workers who are not only speaking for their rights, but \n",
      "who are struggling to achieve their goals of peace, education and equality. \n",
      "Thousands of people have been killed by the terrorists and millions have been \n",
      "injured. I am just one of them. So here I stand.... one girl among many.\n",
      "I speak ― not for myself, but so those without voice can be heard. Those \n",
      "who have fought for their rights: Their right to live in peace. Their right to \n",
      "be treated with dignity.\n",
      "Their right to equality of opportunity. Their right to be educated. Dear \n",
      "Friends, on the 9\n",
      "th\n",
      " of October 2012, the Taliban shot me on the left side of my \n",
      "forehead. They shot my friends too. They thought that the bullets would \n",
      "silence us. But they failed. And then, out of that silence came, thousands of \n",
      "voices. The terrorists thought that they would change my aims and stop my \n",
      "ambitions but nothing changed in my life except this: Weakness, fear and \n",
      "hopelessness died. Strength, power and courage was born. I am the same \n",
      "Malala. My ambitions are the same. My hopes are the same and my dreams \n",
      "are the same.\n",
      "Dear fellows, today I am focusing on women’s rights and girls’ education \n",
      "because they are suffering the most. There was a time when women social \n",
      "activists asked men to stand up for their rights. But, this time, we will do it \n",
      "by ourselves. I am not telling men to step away from speaking for women’s \n",
      "rights rather I am focusing on women to be independent to fight for \n",
      "themselves. So dear sisters and brothers, now it’s time to speak up.\n",
      "Malala Yousafzai’s Speech at the United Nations\n",
      "同志社中学校　３年　山　本　莉紗子\n",
      "\n",
      "17\n",
      "中学生―Ｄ部門\n",
      "Dear brothers and sisters, we want schools and education for every child’s \n",
      "bright future. We will continue our journey to our destination of peace and \n",
      "education. No one can stop us. We will speak for our rights and we will bring \n",
      "change through our voice. We believe in the power and the strength of our \n",
      "words. Our words can change the whole world. Because we are all together, \n",
      "united for the cause of education. And if we want to achieve our goal, then \n",
      "let us empower ourselves with the weapon of knowledge and let us shield \n",
      "ourselves with unity and togetherness.\n",
      "Dear brothers and sisters, we must not forget that millions of people are \n",
      "suffering from poverty, injustice and ignorance. We must not forget that \n",
      "millions of children are out of their schools. We must not forget that our \n",
      "sisters and brothers are waiting for a bright peaceful future. So let us wage a \n",
      "global struggle against illiteracy, poverty and terrorism let us pick up our \n",
      "books and our pens. They are our most peaceful weapons. One child, one \n",
      "teacher, one book and one pen can change the world. Education is the only \n",
      "solution. Education first.\n",
      "\u001b[0m\n",
      "\n",
      "\u001b[1m> Finished chain.\u001b[0m\n",
      "\n",
      "\u001b[1m> Finished chain.\u001b[0m\n"
     ]
    }
   ],
   "source": [
    "output_summary=chain.run(docs)"
   ]
  },
  {
   "cell_type": "code",
   "execution_count": 18,
   "id": "d4e18041",
   "metadata": {},
   "outputs": [
    {
     "data": {
      "text/plain": [
       "'This speech emphasizes the importance of education and human rights, particularly for women and girls. \\n\\nThe speaker highlights the struggles of those fighting for these rights, drawing from her own experience as Malala Yousafzai, who was shot by the Taliban for advocating education. \\n\\nShe stresses the power of collective voice and action, urging everyone to stand up for peace, equality, and the right to education.  The speech calls for global efforts to combat illiteracy, poverty, and terrorism, emphasizing education as the key to a brighter future. \\n\\n\\n'"
      ]
     },
     "execution_count": 18,
     "metadata": {},
     "output_type": "execute_result"
    }
   ],
   "source": [
    "output_summary"
   ]
  },
  {
   "cell_type": "markdown",
   "id": "54a9a34f",
   "metadata": {},
   "source": [
    "### Map Reduce"
   ]
  },
  {
   "cell_type": "code",
   "execution_count": 22,
   "id": "d04f110a",
   "metadata": {},
   "outputs": [
    {
     "data": {
      "text/plain": [
       "[Document(metadata={'producer': 'iTextSharp 5.0.5 (c) 1T3XT BVBA', 'creator': 'PDForsell by Yomogi Software', 'creationdate': '', 'moddate': '2014-02-18T13:46:01+09:00', 'title': '', 'author': '', 'subject': '', 'keywords': '', 'source': 'malayousafzai.pdf', 'total_pages': 2, 'page': 0, 'page_label': '1'}, page_content='16\\n中学生―Ｄ部門\\nDear brothers and sisters, do remember one thing. Malala Day is not my \\nday. Today is the day of every woman, every boy and every girl who have \\nraised their voice for their rights. There are hundreds of Human rights \\nactivists and social workers who are not only speaking for their rights, but \\nwho are struggling to achieve their goals of peace, education and equality. \\nThousands of people have been killed by the terrorists and millions have been \\ninjured. I am just one of them. So here I stand.... one girl among many.\\nI speak ― not for myself, but so those without voice can be heard. Those \\nwho have fought for their rights: Their right to live in peace. Their right to \\nbe treated with dignity.\\nTheir right to equality of opportunity. Their right to be educated. Dear \\nFriends, on the 9\\nth\\n of October 2012, the Taliban shot me on the left side of my \\nforehead. They shot my friends too. They thought that the bullets would \\nsilence us. But they failed. And then, out of that silence came, thousands of \\nvoices. The terrorists thought that they would change my aims and stop my \\nambitions but nothing changed in my life except this: Weakness, fear and \\nhopelessness died. Strength, power and courage was born. I am the same \\nMalala. My ambitions are the same. My hopes are the same and my dreams \\nare the same.\\nDear fellows, today I am focusing on women’s rights and girls’ education \\nbecause they are suffering the most. There was a time when women social \\nactivists asked men to stand up for their rights. But, this time, we will do it \\nby ourselves. I am not telling men to step away from speaking for women’s \\nrights rather I am focusing on women to be independent to fight for \\nthemselves. So dear sisters and brothers, now it’s time to speak up.\\nMalala Yousafzai’s Speech at the United Nations\\n同志社中学校\\u3000３年\\u3000山\\u3000本\\u3000莉紗子'),\n",
       " Document(metadata={'producer': 'iTextSharp 5.0.5 (c) 1T3XT BVBA', 'creator': 'PDForsell by Yomogi Software', 'creationdate': '', 'moddate': '2014-02-18T13:46:01+09:00', 'title': '', 'author': '', 'subject': '', 'keywords': '', 'source': 'malayousafzai.pdf', 'total_pages': 2, 'page': 1, 'page_label': '2'}, page_content='17\\n中学生―Ｄ部門\\nDear brothers and sisters, we want schools and education for every child’s \\nbright future. We will continue our journey to our destination of peace and \\neducation. No one can stop us. We will speak for our rights and we will bring \\nchange through our voice. We believe in the power and the strength of our \\nwords. Our words can change the whole world. Because we are all together, \\nunited for the cause of education. And if we want to achieve our goal, then \\nlet us empower ourselves with the weapon of knowledge and let us shield \\nourselves with unity and togetherness.\\nDear brothers and sisters, we must not forget that millions of people are \\nsuffering from poverty, injustice and ignorance. We must not forget that \\nmillions of children are out of their schools. We must not forget that our \\nsisters and brothers are waiting for a bright peaceful future. So let us wage a \\nglobal struggle against illiteracy, poverty and terrorism let us pick up our \\nbooks and our pens. They are our most peaceful weapons. One child, one \\nteacher, one book and one pen can change the world. Education is the only \\nsolution. Education first.')]"
      ]
     },
     "execution_count": 22,
     "metadata": {},
     "output_type": "execute_result"
    }
   ],
   "source": [
    "docs=loader.load()\n",
    "docs"
   ]
  },
  {
   "cell_type": "code",
   "execution_count": 23,
   "id": "4f8c90d1",
   "metadata": {},
   "outputs": [
    {
     "data": {
      "text/plain": [
       "[Document(metadata={'producer': 'iTextSharp 5.0.5 (c) 1T3XT BVBA', 'creator': 'PDForsell by Yomogi Software', 'creationdate': '', 'moddate': '2014-02-18T13:46:01+09:00', 'title': '', 'author': '', 'subject': '', 'keywords': '', 'source': 'malayousafzai.pdf', 'total_pages': 2, 'page': 0, 'page_label': '1'}, page_content='16\\n中学生―Ｄ部門\\nDear brothers and sisters, do remember one thing. Malala Day is not my \\nday. Today is the day of every woman, every boy and every girl who have \\nraised their voice for their rights. There are hundreds of Human rights \\nactivists and social workers who are not only speaking for their rights, but \\nwho are struggling to achieve their goals of peace, education and equality. \\nThousands of people have been killed by the terrorists and millions have been \\ninjured. I am just one of them. So here I stand.... one girl among many.\\nI speak ― not for myself, but so those without voice can be heard. Those \\nwho have fought for their rights: Their right to live in peace. Their right to \\nbe treated with dignity.\\nTheir right to equality of opportunity. Their right to be educated. Dear \\nFriends, on the 9\\nth\\n of October 2012, the Taliban shot me on the left side of my \\nforehead. They shot my friends too. They thought that the bullets would'),\n",
       " Document(metadata={'producer': 'iTextSharp 5.0.5 (c) 1T3XT BVBA', 'creator': 'PDForsell by Yomogi Software', 'creationdate': '', 'moddate': '2014-02-18T13:46:01+09:00', 'title': '', 'author': '', 'subject': '', 'keywords': '', 'source': 'malayousafzai.pdf', 'total_pages': 2, 'page': 0, 'page_label': '1'}, page_content='Friends, on the 9\\nth\\n of October 2012, the Taliban shot me on the left side of my \\nforehead. They shot my friends too. They thought that the bullets would \\nsilence us. But they failed. And then, out of that silence came, thousands of \\nvoices. The terrorists thought that they would change my aims and stop my \\nambitions but nothing changed in my life except this: Weakness, fear and \\nhopelessness died. Strength, power and courage was born. I am the same \\nMalala. My ambitions are the same. My hopes are the same and my dreams \\nare the same.\\nDear fellows, today I am focusing on women’s rights and girls’ education \\nbecause they are suffering the most. There was a time when women social \\nactivists asked men to stand up for their rights. But, this time, we will do it \\nby ourselves. I am not telling men to step away from speaking for women’s \\nrights rather I am focusing on women to be independent to fight for \\nthemselves. So dear sisters and brothers, now it’s time to speak up.'),\n",
       " Document(metadata={'producer': 'iTextSharp 5.0.5 (c) 1T3XT BVBA', 'creator': 'PDForsell by Yomogi Software', 'creationdate': '', 'moddate': '2014-02-18T13:46:01+09:00', 'title': '', 'author': '', 'subject': '', 'keywords': '', 'source': 'malayousafzai.pdf', 'total_pages': 2, 'page': 0, 'page_label': '1'}, page_content='rights rather I am focusing on women to be independent to fight for \\nthemselves. So dear sisters and brothers, now it’s time to speak up.\\nMalala Yousafzai’s Speech at the United Nations\\n同志社中学校\\u3000３年\\u3000山\\u3000本\\u3000莉紗子'),\n",
       " Document(metadata={'producer': 'iTextSharp 5.0.5 (c) 1T3XT BVBA', 'creator': 'PDForsell by Yomogi Software', 'creationdate': '', 'moddate': '2014-02-18T13:46:01+09:00', 'title': '', 'author': '', 'subject': '', 'keywords': '', 'source': 'malayousafzai.pdf', 'total_pages': 2, 'page': 1, 'page_label': '2'}, page_content='17\\n中学生―Ｄ部門\\nDear brothers and sisters, we want schools and education for every child’s \\nbright future. We will continue our journey to our destination of peace and \\neducation. No one can stop us. We will speak for our rights and we will bring \\nchange through our voice. We believe in the power and the strength of our \\nwords. Our words can change the whole world. Because we are all together, \\nunited for the cause of education. And if we want to achieve our goal, then \\nlet us empower ourselves with the weapon of knowledge and let us shield \\nourselves with unity and togetherness.\\nDear brothers and sisters, we must not forget that millions of people are \\nsuffering from poverty, injustice and ignorance. We must not forget that \\nmillions of children are out of their schools. We must not forget that our \\nsisters and brothers are waiting for a bright peaceful future. So let us wage a \\nglobal struggle against illiteracy, poverty and terrorism let us pick up our'),\n",
       " Document(metadata={'producer': 'iTextSharp 5.0.5 (c) 1T3XT BVBA', 'creator': 'PDForsell by Yomogi Software', 'creationdate': '', 'moddate': '2014-02-18T13:46:01+09:00', 'title': '', 'author': '', 'subject': '', 'keywords': '', 'source': 'malayousafzai.pdf', 'total_pages': 2, 'page': 1, 'page_label': '2'}, page_content='sisters and brothers are waiting for a bright peaceful future. So let us wage a \\nglobal struggle against illiteracy, poverty and terrorism let us pick up our \\nbooks and our pens. They are our most peaceful weapons. One child, one \\nteacher, one book and one pen can change the world. Education is the only \\nsolution. Education first.')]"
      ]
     },
     "execution_count": 23,
     "metadata": {},
     "output_type": "execute_result"
    }
   ],
   "source": [
    "from langchain_text_splitters import RecursiveCharacterTextSplitter\n",
    "\n",
    "text_splitter=RecursiveCharacterTextSplitter(chunk_size=1000,chunk_overlap=200)\n",
    "fin_split=text_splitter.split_documents(docs)\n",
    "fin_split"
   ]
  },
  {
   "cell_type": "code",
   "execution_count": 24,
   "id": "f9ca46db",
   "metadata": {},
   "outputs": [],
   "source": [
    "template='''\n",
    "   Write a concise and short summary of the following chunk document speechs\n",
    "   Speech: {text}\n",
    "'''\n",
    "prompt=PromptTemplate(input_variables=[\"text\"],template=template)"
   ]
  },
  {
   "cell_type": "code",
   "execution_count": 25,
   "id": "6d857bb0",
   "metadata": {},
   "outputs": [],
   "source": [
    "fin_template='''\n",
    "Combine all the summaries of the initial prompt and give the final \n",
    "totalized precise and structured prompt\n",
    "{text}\n",
    "'''\n",
    "final_prompt=PromptTemplate(input_variables=[\"text\"],template=fin_template)"
   ]
  },
  {
   "cell_type": "code",
   "execution_count": 27,
   "id": "3a2ebcbd",
   "metadata": {},
   "outputs": [],
   "source": [
    "chain=load_summarize_chain(llm,chain_type=\"map_reduce\",map_prompt=prompt,combine_prompt=final_prompt,verbose=True)"
   ]
  },
  {
   "cell_type": "code",
   "execution_count": 28,
   "id": "baaaed80",
   "metadata": {},
   "outputs": [
    {
     "name": "stdout",
     "output_type": "stream",
     "text": [
      "\n",
      "\n",
      "\u001b[1m> Entering new MapReduceDocumentsChain chain...\u001b[0m\n",
      "\n",
      "\n",
      "\u001b[1m> Entering new LLMChain chain...\u001b[0m\n",
      "Prompt after formatting:\n",
      "\u001b[32;1m\u001b[1;3m\n",
      "   Write a concise and short summary of the following chunk document speechs\n",
      "   Speech: 16\n",
      "中学生―Ｄ部門\n",
      "Dear brothers and sisters, do remember one thing. Malala Day is not my \n",
      "day. Today is the day of every woman, every boy and every girl who have \n",
      "raised their voice for their rights. There are hundreds of Human rights \n",
      "activists and social workers who are not only speaking for their rights, but \n",
      "who are struggling to achieve their goals of peace, education and equality. \n",
      "Thousands of people have been killed by the terrorists and millions have been \n",
      "injured. I am just one of them. So here I stand.... one girl among many.\n",
      "I speak ― not for myself, but so those without voice can be heard. Those \n",
      "who have fought for their rights: Their right to live in peace. Their right to \n",
      "be treated with dignity.\n",
      "Their right to equality of opportunity. Their right to be educated. Dear \n",
      "Friends, on the 9\n",
      "th\n",
      " of October 2012, the Taliban shot me on the left side of my \n",
      "forehead. They shot my friends too. They thought that the bullets would\n",
      "\u001b[0m\n",
      "Prompt after formatting:\n",
      "\u001b[32;1m\u001b[1;3m\n",
      "   Write a concise and short summary of the following chunk document speechs\n",
      "   Speech: Friends, on the 9\n",
      "th\n",
      " of October 2012, the Taliban shot me on the left side of my \n",
      "forehead. They shot my friends too. They thought that the bullets would \n",
      "silence us. But they failed. And then, out of that silence came, thousands of \n",
      "voices. The terrorists thought that they would change my aims and stop my \n",
      "ambitions but nothing changed in my life except this: Weakness, fear and \n",
      "hopelessness died. Strength, power and courage was born. I am the same \n",
      "Malala. My ambitions are the same. My hopes are the same and my dreams \n",
      "are the same.\n",
      "Dear fellows, today I am focusing on women’s rights and girls’ education \n",
      "because they are suffering the most. There was a time when women social \n",
      "activists asked men to stand up for their rights. But, this time, we will do it \n",
      "by ourselves. I am not telling men to step away from speaking for women’s \n",
      "rights rather I am focusing on women to be independent to fight for \n",
      "themselves. So dear sisters and brothers, now it’s time to speak up.\n",
      "\u001b[0m\n",
      "Prompt after formatting:\n",
      "\u001b[32;1m\u001b[1;3m\n",
      "   Write a concise and short summary of the following chunk document speechs\n",
      "   Speech: rights rather I am focusing on women to be independent to fight for \n",
      "themselves. So dear sisters and brothers, now it’s time to speak up.\n",
      "Malala Yousafzai’s Speech at the United Nations\n",
      "同志社中学校　３年　山　本　莉紗子\n",
      "\u001b[0m\n",
      "Prompt after formatting:\n",
      "\u001b[32;1m\u001b[1;3m\n",
      "   Write a concise and short summary of the following chunk document speechs\n",
      "   Speech: 17\n",
      "中学生―Ｄ部門\n",
      "Dear brothers and sisters, we want schools and education for every child’s \n",
      "bright future. We will continue our journey to our destination of peace and \n",
      "education. No one can stop us. We will speak for our rights and we will bring \n",
      "change through our voice. We believe in the power and the strength of our \n",
      "words. Our words can change the whole world. Because we are all together, \n",
      "united for the cause of education. And if we want to achieve our goal, then \n",
      "let us empower ourselves with the weapon of knowledge and let us shield \n",
      "ourselves with unity and togetherness.\n",
      "Dear brothers and sisters, we must not forget that millions of people are \n",
      "suffering from poverty, injustice and ignorance. We must not forget that \n",
      "millions of children are out of their schools. We must not forget that our \n",
      "sisters and brothers are waiting for a bright peaceful future. So let us wage a \n",
      "global struggle against illiteracy, poverty and terrorism let us pick up our\n",
      "\u001b[0m\n",
      "Prompt after formatting:\n",
      "\u001b[32;1m\u001b[1;3m\n",
      "   Write a concise and short summary of the following chunk document speechs\n",
      "   Speech: sisters and brothers are waiting for a bright peaceful future. So let us wage a \n",
      "global struggle against illiteracy, poverty and terrorism let us pick up our \n",
      "books and our pens. They are our most peaceful weapons. One child, one \n",
      "teacher, one book and one pen can change the world. Education is the only \n",
      "solution. Education first.\n",
      "\u001b[0m\n",
      "\n",
      "\u001b[1m> Finished chain.\u001b[0m\n",
      "\n",
      "\n",
      "\u001b[1m> Entering new LLMChain chain...\u001b[0m\n",
      "Prompt after formatting:\n",
      "\u001b[32;1m\u001b[1;3m\n",
      "Combine all the summaries of the initial prompt and give the final \n",
      "totalized precise and structured prompt\n",
      "This speech emphasizes that Malala Day belongs to all who fight for human rights, not just Malala herself.  The speaker, Malala, highlights the struggles of countless activists and victims of terrorism, stating that she is just one voice among many. She speaks on behalf of those who have been silenced, advocating for the fundamental rights to peace, dignity, equality, and education. The speech concludes with a reference to the Taliban attack on her and her friends in 2012.  \n",
      "\n",
      "\n",
      "\n",
      "\n",
      "Malala Yousafzai, who survived a Taliban attack, emphasizes the importance of women's rights and girls' education. \n",
      "\n",
      "She highlights the resilience of the human spirit, stating that the attack only strengthened her resolve. While acknowledging the role of men in supporting women's rights, she urges women to be independent and advocate for themselves. Malala calls for collective action, inspiring both women and men to speak up for equality and justice. \n",
      "\n",
      "\n",
      "Malala Yousafzai emphasizes the importance of women's independence and their right to fight for themselves. She calls upon everyone, sisters and brothers, to speak up and advocate for women's rights. \n",
      "\n",
      "\n",
      "This speech, delivered by a group of middle school students, passionately advocates for education as a key to peace and a brighter future. They call for a global fight against illiteracy, poverty, and terrorism, emphasizing the power of their voices and unity in achieving change.  \n",
      "\n",
      "\n",
      "This speech calls for a global fight against illiteracy, poverty, and terrorism. It emphasizes the power of education, stating that books and pens are our most peaceful weapons.  The message is clear:  investing in education, starting with a single child, teacher, book, and pen, is the key to changing the world.  \n",
      "\n",
      "\u001b[0m\n",
      "\n",
      "\u001b[1m> Finished chain.\u001b[0m\n",
      "\n",
      "\u001b[1m> Finished chain.\u001b[0m\n"
     ]
    },
    {
     "data": {
      "text/plain": [
       "'## Final Totalized Prompt:\\n\\nThis speech should be delivered by Malala Yousafzai and address the following themes:\\n\\n**1. Universal Relevance of Malala Day:** \\n\\n* Emphasize that Malala Day is not just about Malala, but about all individuals who fight for human rights.\\n* Highlight the struggles of countless activists and victims of terrorism, positioning Malala as one voice among many.\\n* Advocate for fundamental rights: peace, dignity, equality, and education, speaking on behalf of those silenced.\\n\\n**2. Malala\\'s Personal Story and Resilience:**\\n\\n*  Briefly reference the Taliban attack on her and her friends in 2012.\\n*  Focus on the power of the human spirit and how the attack strengthened her resolve.\\n\\n**3. Women\\'s Empowerment and Collective Action:**\\n\\n*  Stress the importance of women\\'s independence and their right to advocate for themselves.\\n*  Acknowledge the role of men in supporting women\\'s rights, but encourage women to be active participants in their own liberation.\\n*  Call for collective action, urging both women and men to speak up for equality and justice.\\n\\n**4. Education as a Catalyst for Change:**\\n\\n*  Include a powerful message about the importance of education as a key to peace and a brighter future.\\n*  Highlight the power of books and pens as \"peaceful weapons\" against illiteracy, poverty, and terrorism.\\n*  Emphasize the ripple effect of investing in education, starting with a single child, teacher, book, and pen.\\n\\n\\n**Delivery Style:**\\n\\n* The speech should be delivered with passion and conviction, reflecting the urgency of the issues addressed.\\n*  It should be relatable and inspiring, appealing to a broad audience. \\n\\n\\n\\n'"
      ]
     },
     "execution_count": 28,
     "metadata": {},
     "output_type": "execute_result"
    }
   ],
   "source": [
    "output_summary=chain.run(fin_split)\n",
    "output_summary"
   ]
  },
  {
   "cell_type": "markdown",
   "id": "c6f7c0fb",
   "metadata": {},
   "source": [
    "### Refine Summarization"
   ]
  },
  {
   "cell_type": "code",
   "execution_count": 29,
   "id": "f286e21a",
   "metadata": {},
   "outputs": [
    {
     "name": "stdout",
     "output_type": "stream",
     "text": [
      "\n",
      "\n",
      "\u001b[1m> Entering new RefineDocumentsChain chain...\u001b[0m\n",
      "\n",
      "\n",
      "\u001b[1m> Entering new LLMChain chain...\u001b[0m\n",
      "Prompt after formatting:\n",
      "\u001b[32;1m\u001b[1;3mWrite a concise summary of the following:\n",
      "\n",
      "\n",
      "\"16\n",
      "中学生―Ｄ部門\n",
      "Dear brothers and sisters, do remember one thing. Malala Day is not my \n",
      "day. Today is the day of every woman, every boy and every girl who have \n",
      "raised their voice for their rights. There are hundreds of Human rights \n",
      "activists and social workers who are not only speaking for their rights, but \n",
      "who are struggling to achieve their goals of peace, education and equality. \n",
      "Thousands of people have been killed by the terrorists and millions have been \n",
      "injured. I am just one of them. So here I stand.... one girl among many.\n",
      "I speak ― not for myself, but so those without voice can be heard. Those \n",
      "who have fought for their rights: Their right to live in peace. Their right to \n",
      "be treated with dignity.\n",
      "Their right to equality of opportunity. Their right to be educated. Dear \n",
      "Friends, on the 9\n",
      "th\n",
      " of October 2012, the Taliban shot me on the left side of my \n",
      "forehead. They shot my friends too. They thought that the bullets would\"\n",
      "\n",
      "\n",
      "CONCISE SUMMARY:\u001b[0m\n",
      "\n",
      "\u001b[1m> Finished chain.\u001b[0m\n",
      "\n",
      "\n",
      "\u001b[1m> Entering new LLMChain chain...\u001b[0m\n",
      "Prompt after formatting:\n",
      "\u001b[32;1m\u001b[1;3mYour job is to produce a final summary.\n",
      "We have provided an existing summary up to a certain point: In this excerpt from a speech, Malala Yousafzai emphasizes that Malala Day is not just about her, but about all individuals who advocate for human rights, particularly women and girls. She highlights the sacrifices of countless activists and the devastating impact of terrorism, positioning herself as a representative voice for those silenced.  She specifically mentions the right to peace, dignity, equality, and education as fundamental human rights. The speech concludes with a reference to the Taliban attack on her and her friends on October 9, 2012. \n",
      "\n",
      "\n",
      "\n",
      "We have the opportunity to refine the existing summary (only if needed) with some more context below.\n",
      "------------\n",
      "Friends, on the 9\n",
      "th\n",
      " of October 2012, the Taliban shot me on the left side of my \n",
      "forehead. They shot my friends too. They thought that the bullets would \n",
      "silence us. But they failed. And then, out of that silence came, thousands of \n",
      "voices. The terrorists thought that they would change my aims and stop my \n",
      "ambitions but nothing changed in my life except this: Weakness, fear and \n",
      "hopelessness died. Strength, power and courage was born. I am the same \n",
      "Malala. My ambitions are the same. My hopes are the same and my dreams \n",
      "are the same.\n",
      "Dear fellows, today I am focusing on women’s rights and girls’ education \n",
      "because they are suffering the most. There was a time when women social \n",
      "activists asked men to stand up for their rights. But, this time, we will do it \n",
      "by ourselves. I am not telling men to step away from speaking for women’s \n",
      "rights rather I am focusing on women to be independent to fight for \n",
      "themselves. So dear sisters and brothers, now it’s time to speak up.\n",
      "------------\n",
      "Given the new context, refine the original summary.\n",
      "If the context isn't useful, return the original summary.\u001b[0m\n",
      "\n",
      "\u001b[1m> Finished chain.\u001b[0m\n",
      "\n",
      "\n",
      "\u001b[1m> Entering new LLMChain chain...\u001b[0m\n",
      "Prompt after formatting:\n",
      "\u001b[32;1m\u001b[1;3mYour job is to produce a final summary.\n",
      "We have provided an existing summary up to a certain point: In this excerpt from a speech, Malala Yousafzai emphasizes that Malala Day is not just about her, but about all individuals who advocate for human rights, particularly women and girls. She highlights the sacrifices of countless activists and the devastating impact of terrorism, positioning herself as a representative voice for those silenced. Recalling the Taliban attack on her and her friends on October 9, 2012, she emphasizes her resilience and unwavering commitment to her cause.  She specifically calls for women to take ownership of their fight for rights and education, stressing the importance of independence and self-advocacy.  The speech concludes with a powerful call to action, urging everyone to speak up for human rights.  \n",
      "\n",
      "\n",
      "The added context strengthens the summary by:\n",
      "\n",
      "* **Providing a concrete example of the terrorism Malala faced:** This highlights the personal stakes involved and adds emotional weight to her message.\n",
      "* **Clarifying her stance on male involvement:**  While acknowledging the role men have played, she emphasizes the importance of women leading their own fight for equality.\n",
      "* **Adding a direct call to action:**  The \"speak up\" message provides a clear takeaway and inspires listeners to get involved. \n",
      "\n",
      "\n",
      "\n",
      "\n",
      "We have the opportunity to refine the existing summary (only if needed) with some more context below.\n",
      "------------\n",
      "rights rather I am focusing on women to be independent to fight for \n",
      "themselves. So dear sisters and brothers, now it’s time to speak up.\n",
      "Malala Yousafzai’s Speech at the United Nations\n",
      "同志社中学校　３年　山　本　莉紗子\n",
      "------------\n",
      "Given the new context, refine the original summary.\n",
      "If the context isn't useful, return the original summary.\u001b[0m\n",
      "\n",
      "\u001b[1m> Finished chain.\u001b[0m\n",
      "\n",
      "\n",
      "\u001b[1m> Entering new LLMChain chain...\u001b[0m\n",
      "Prompt after formatting:\n",
      "\u001b[32;1m\u001b[1;3mYour job is to produce a final summary.\n",
      "We have provided an existing summary up to a certain point: Here's a refined summary incorporating the new context:\n",
      "\n",
      "In this excerpt from a speech, Malala Yousafzai emphasizes that Malala Day is not just about her, but about all individuals who advocate for human rights, particularly women and girls. She highlights the sacrifices of countless activists and the devastating impact of terrorism, positioning herself as a representative voice for those silenced. Recalling the Taliban attack on her and her friends on October 9, 2012, she emphasizes her resilience and unwavering commitment to her cause.  While acknowledging the role men have played, she stresses the importance of women leading their own fight for equality and independence. The speech concludes with a powerful call to action, urging everyone to speak up for human rights. \n",
      "\n",
      "\n",
      "\n",
      "The added context clarifies Malala's message: she's not simply calling for support from men, but specifically encourages women to take ownership of their fight for rights and education. \n",
      "\n",
      "We have the opportunity to refine the existing summary (only if needed) with some more context below.\n",
      "------------\n",
      "17\n",
      "中学生―Ｄ部門\n",
      "Dear brothers and sisters, we want schools and education for every child’s \n",
      "bright future. We will continue our journey to our destination of peace and \n",
      "education. No one can stop us. We will speak for our rights and we will bring \n",
      "change through our voice. We believe in the power and the strength of our \n",
      "words. Our words can change the whole world. Because we are all together, \n",
      "united for the cause of education. And if we want to achieve our goal, then \n",
      "let us empower ourselves with the weapon of knowledge and let us shield \n",
      "ourselves with unity and togetherness.\n",
      "Dear brothers and sisters, we must not forget that millions of people are \n",
      "suffering from poverty, injustice and ignorance. We must not forget that \n",
      "millions of children are out of their schools. We must not forget that our \n",
      "sisters and brothers are waiting for a bright peaceful future. So let us wage a \n",
      "global struggle against illiteracy, poverty and terrorism let us pick up our\n",
      "------------\n",
      "Given the new context, refine the original summary.\n",
      "If the context isn't useful, return the original summary.\u001b[0m\n",
      "\n",
      "\u001b[1m> Finished chain.\u001b[0m\n",
      "\n",
      "\n",
      "\u001b[1m> Entering new LLMChain chain...\u001b[0m\n",
      "Prompt after formatting:\n",
      "\u001b[32;1m\u001b[1;3mYour job is to produce a final summary.\n",
      "We have provided an existing summary up to a certain point: In this excerpt from a speech, Malala Yousafzai emphasizes that Malala Day is not just about her, but about all individuals who advocate for human rights, particularly women and girls. She highlights the sacrifices of countless activists and the devastating impact of terrorism, positioning herself as a representative voice for those silenced. Recalling the Taliban attack on her and her friends on October 9, 2012, she emphasizes her resilience and unwavering commitment to her cause.  While acknowledging the role men have played, she stresses the importance of women leading their own fight for equality and independence, urging them to empower themselves with knowledge and unity. The speech concludes with a powerful call to action, urging everyone to speak up for human rights and wage a global struggle against illiteracy, poverty, and terrorism. \n",
      "\n",
      "\n",
      "The added context strengthens the summary by highlighting Malala's call to action specifically for women to take an active role in their fight for education and a better future. \n",
      "\n",
      "We have the opportunity to refine the existing summary (only if needed) with some more context below.\n",
      "------------\n",
      "sisters and brothers are waiting for a bright peaceful future. So let us wage a \n",
      "global struggle against illiteracy, poverty and terrorism let us pick up our \n",
      "books and our pens. They are our most peaceful weapons. One child, one \n",
      "teacher, one book and one pen can change the world. Education is the only \n",
      "solution. Education first.\n",
      "------------\n",
      "Given the new context, refine the original summary.\n",
      "If the context isn't useful, return the original summary.\u001b[0m\n",
      "\n",
      "\u001b[1m> Finished chain.\u001b[0m\n",
      "\n",
      "\u001b[1m> Finished chain.\u001b[0m\n"
     ]
    },
    {
     "data": {
      "text/plain": [
       "\"In this excerpt from a speech, Malala Yousafzai emphasizes that Malala Day is not just about her, but about all individuals who advocate for human rights, particularly women and girls. She highlights the sacrifices of countless activists and the devastating impact of terrorism, positioning herself as a representative voice for those silenced. Recalling the Taliban attack on her and her friends on October 9, 2012, she emphasizes her resilience and unwavering commitment to her cause.  While acknowledging the role men have played, she stresses the importance of women leading their own fight for equality and independence, urging them to empower themselves with knowledge and unity.  Malala concludes with a powerful call to action, urging everyone to speak up for human rights and wage a global struggle against illiteracy, poverty, and terrorism, emphasizing that education is the key to a brighter future.  She urges individuals to take up books and pens as their peaceful weapons, believing that even one child, one teacher, one book, and one pen can change the world. \\n\\n\\n\\nThe added context clarifies Malala's call to action, emphasizing her belief in education as the primary weapon against the world's challenges and highlighting the potential impact of even a single individual's dedication to learning. \\n\""
      ]
     },
     "execution_count": 29,
     "metadata": {},
     "output_type": "execute_result"
    }
   ],
   "source": [
    "chain=load_summarize_chain(\n",
    "    llm=llm,\n",
    "    chain_type=\"refine\",\n",
    "    verbose=True\n",
    ")\n",
    "output=chain.run(fin_split)\n",
    "output"
   ]
  }
 ],
 "metadata": {
  "kernelspec": {
   "display_name": "Python 3",
   "language": "python",
   "name": "python3"
  },
  "language_info": {
   "codemirror_mode": {
    "name": "ipython",
    "version": 3
   },
   "file_extension": ".py",
   "mimetype": "text/x-python",
   "name": "python",
   "nbconvert_exporter": "python",
   "pygments_lexer": "ipython3",
   "version": "3.11.0"
  }
 },
 "nbformat": 4,
 "nbformat_minor": 5
}
